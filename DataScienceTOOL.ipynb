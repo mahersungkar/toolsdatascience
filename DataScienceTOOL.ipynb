{
 "cells": [
  {
   "cell_type": "markdown",
   "id": "8d784a77",
   "metadata": {},
   "source": [
    "# Data Science Tools and Ecosystem\n"
   ]
  },
  {
   "cell_type": "markdown",
   "id": "5ddaf6de",
   "metadata": {},
   "source": [
    "## Introduction\n",
    "This notebook provides an overview of various data science tools and the ecosystem.\n"
   ]
  },
  {
   "cell_type": "code",
   "execution_count": null,
   "id": "ee0aae28",
   "metadata": {},
   "outputs": [],
   "source": [
    "## Data Science Languages\n",
    "1. Python\n",
    "2. R\n",
    "3. SQL\n",
    "4. Julia\n",
    "5. Scala\n"
   ]
  },
  {
   "cell_type": "code",
   "execution_count": null,
   "id": "3cd07dcf",
   "metadata": {},
   "outputs": [],
   "source": [
    "## Data Science Libraries\n",
    "1. Pandas\n",
    "2. NumPy\n",
    "3. Matplotlib\n",
    "4. Scikit-learn\n",
    "5. TensorFlow\n",
    "6. Keras\n"
   ]
  },
  {
   "cell_type": "markdown",
   "id": "dbeb738b",
   "metadata": {},
   "source": [
    "## Data Science Tools\n",
    "| Tool          | Description                                |\n",
    "|---------------|--------------------------------------------|\n",
    "| Jupyter       | Interactive computing environment         |\n",
    "| RStudio       | IDE for R                                 |\n",
    "| Apache Spark  | Cluster-computing framework               |\n",
    "| TensorFlow    | Machine learning library                  |\n",
    "| GitHub        | Version control and collaboration platform|\n"
   ]
  },
  {
   "cell_type": "markdown",
   "id": "dc6eee00",
   "metadata": {},
   "source": [
    "## Arithmetic Expressions\n",
    "In this section, we will demonstrate basic arithmetic operations such as addition and multiplication.\n"
   ]
  },
  {
   "cell_type": "code",
   "execution_count": null,
   "id": "0f8424ba",
   "metadata": {},
   "outputs": [],
   "source": [
    "# Multiply and add numbers\n",
    "a = 5\n",
    "b = 4\n",
    "result = a * b\n",
    "result += 2\n",
    "result\n"
   ]
  },
  {
   "cell_type": "code",
   "execution_count": null,
   "id": "50a9242c",
   "metadata": {},
   "outputs": [],
   "source": [
    "# Convert minutes to hours\n",
    "minutes = 120\n",
    "hours = minutes / 60\n",
    "hours\n"
   ]
  },
  {
   "cell_type": "markdown",
   "id": "df05b9be",
   "metadata": {},
   "source": [
    "## Goals\n",
    "1. Learn about various data science tools.\n",
    "2. Understand different data science languages.\n",
    "3. Perform basic arithmetic operations in Python.\n",
    "4. Convert time units using Python.\n"
   ]
  },
  {
   "cell_type": "markdown",
   "id": "b076ddd4",
   "metadata": {},
   "source": [
    "## Author\n",
    "Maher Ismail Sungkar\n"
   ]
  }
 ],
 "metadata": {
  "kernelspec": {
   "display_name": "Python 3 (ipykernel)",
   "language": "python",
   "name": "python3"
  },
  "language_info": {
   "codemirror_mode": {
    "name": "ipython",
    "version": 3
   },
   "file_extension": ".py",
   "mimetype": "text/x-python",
   "name": "python",
   "nbconvert_exporter": "python",
   "pygments_lexer": "ipython3",
   "version": "3.11.5"
  }
 },
 "nbformat": 4,
 "nbformat_minor": 5
}
